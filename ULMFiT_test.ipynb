{
  "nbformat": 4,
  "nbformat_minor": 0,
  "metadata": {
    "colab": {
      "name": "ULMFiT-test.ipynb",
      "provenance": [],
      "collapsed_sections": [],
      "authorship_tag": "ABX9TyM7tvCBNiEzG0hyqYMP8Clk",
      "include_colab_link": true
    },
    "kernelspec": {
      "name": "python3",
      "display_name": "Python 3"
    },
    "accelerator": "GPU"
  },
  "cells": [
    {
      "cell_type": "markdown",
      "metadata": {
        "id": "view-in-github",
        "colab_type": "text"
      },
      "source": [
        "<a href=\"https://colab.research.google.com/github/hydradon/modelling-with-pythhon/blob/master/ULMFiT_test.ipynb\" target=\"_parent\"><img src=\"https://colab.research.google.com/assets/colab-badge.svg\" alt=\"Open In Colab\"/></a>"
      ]
    },
    {
      "cell_type": "markdown",
      "metadata": {
        "id": "SfynOv-NYOm0",
        "colab_type": "text"
      },
      "source": [
        "# Practice modelling with ULMFiT to classify news report"
      ]
    },
    {
      "cell_type": "code",
      "metadata": {
        "id": "Ccy6HpAIHb_7",
        "colab_type": "code",
        "colab": {}
      },
      "source": [
        "!pip install torch_nightly -f https://download.pytorch.org/whl/nightly/cu92/torch_nightly.html\n",
        "!pip install fastai"
      ],
      "execution_count": null,
      "outputs": []
    },
    {
      "cell_type": "code",
      "metadata": {
        "id": "rWUnKY5tJCzU",
        "colab_type": "code",
        "colab": {}
      },
      "source": [
        "import fastai\n",
        "from fastai import *\n",
        "from fastai.text import *\n",
        "import pandas as pd\n",
        "import numpy as np\n",
        "\n",
        "from functools import partial\n",
        "import io\n",
        "import os"
      ],
      "execution_count": 2,
      "outputs": []
    },
    {
      "cell_type": "markdown",
      "metadata": {
        "id": "ygIolo5rLkG6",
        "colab_type": "text"
      },
      "source": [
        "## Using the 20 Newsgroup text dataset"
      ]
    },
    {
      "cell_type": "code",
      "metadata": {
        "id": "TTrHlt7UJQ-P",
        "colab_type": "code",
        "colab": {}
      },
      "source": [
        "from sklearn.datasets import fetch_20newsgroups\n",
        "dataset = fetch_20newsgroups(shuffle=True, random_state=1, remove=('headers', 'footers', 'quotes'))\n",
        "documents = dataset.data"
      ],
      "execution_count": null,
      "outputs": []
    },
    {
      "cell_type": "code",
      "metadata": {
        "id": "JbCwCXB-J5I8",
        "colab_type": "code",
        "colab": {
          "base_uri": "https://localhost:8080/",
          "height": 34
        },
        "outputId": "6a0e4457-5d82-4dfb-d2c0-53b8757ca732"
      },
      "source": [
        "df = pd.DataFrame({'label' : dataset.target, 'text': dataset.data})\n",
        "df.shape"
      ],
      "execution_count": 19,
      "outputs": [
        {
          "output_type": "execute_result",
          "data": {
            "text/plain": [
              "(11314, 2)"
            ]
          },
          "metadata": {
            "tags": []
          },
          "execution_count": 19
        }
      ]
    },
    {
      "cell_type": "markdown",
      "metadata": {
        "id": "AC0Ng1QLLpfG",
        "colab_type": "text"
      },
      "source": [
        "### Only use group 1 and 10 for classification"
      ]
    },
    {
      "cell_type": "code",
      "metadata": {
        "id": "a9jyY6lIKJLH",
        "colab_type": "code",
        "colab": {
          "base_uri": "https://localhost:8080/",
          "height": 402
        },
        "outputId": "349f8331-7bef-4b3d-b827-b8c8cd70d478"
      },
      "source": [
        "df = df[df[\"label\"].isin([1, 10])]\n",
        "df.reset_index(drop = True, inplace = True)\n",
        "df"
      ],
      "execution_count": 21,
      "outputs": [
        {
          "output_type": "execute_result",
          "data": {
            "text/html": [
              "<div>\n",
              "<style scoped>\n",
              "    .dataframe tbody tr th:only-of-type {\n",
              "        vertical-align: middle;\n",
              "    }\n",
              "\n",
              "    .dataframe tbody tr th {\n",
              "        vertical-align: top;\n",
              "    }\n",
              "\n",
              "    .dataframe thead th {\n",
              "        text-align: right;\n",
              "    }\n",
              "</style>\n",
              "<table border=\"1\" class=\"dataframe\">\n",
              "  <thead>\n",
              "    <tr style=\"text-align: right;\">\n",
              "      <th></th>\n",
              "      <th>label</th>\n",
              "      <th>text</th>\n",
              "    </tr>\n",
              "  </thead>\n",
              "  <tbody>\n",
              "    <tr>\n",
              "      <th>0</th>\n",
              "      <td>10</td>\n",
              "      <td>Well, I will have to change the scoring on my ...</td>\n",
              "    </tr>\n",
              "    <tr>\n",
              "      <th>1</th>\n",
              "      <td>1</td>\n",
              "      <td>Archive-name: graphics/resources-list/part1\\nL...</td>\n",
              "    </tr>\n",
              "    <tr>\n",
              "      <th>2</th>\n",
              "      <td>10</td>\n",
              "      <td>\\nAnd of course, Mike Ramsey was (at one time)...</td>\n",
              "    </tr>\n",
              "    <tr>\n",
              "      <th>3</th>\n",
              "      <td>10</td>\n",
              "      <td>As I promised, I would give you the name of th...</td>\n",
              "    </tr>\n",
              "    <tr>\n",
              "      <th>4</th>\n",
              "      <td>10</td>\n",
              "      <td>GAME(S) OF 4/15\\n---------------\\nADIRONDACK 6...</td>\n",
              "    </tr>\n",
              "    <tr>\n",
              "      <th>...</th>\n",
              "      <td>...</td>\n",
              "      <td>...</td>\n",
              "    </tr>\n",
              "    <tr>\n",
              "      <th>1179</th>\n",
              "      <td>10</td>\n",
              "      <td>The Hawks win!!  Jermey Roenick scored his 50 ...</td>\n",
              "    </tr>\n",
              "    <tr>\n",
              "      <th>1180</th>\n",
              "      <td>10</td>\n",
              "      <td>I think that NHLPA' 93 is the best video game ...</td>\n",
              "    </tr>\n",
              "    <tr>\n",
              "      <th>1181</th>\n",
              "      <td>1</td>\n",
              "      <td>\\nI am in the market for a 24-bit graphics car...</td>\n",
              "    </tr>\n",
              "    <tr>\n",
              "      <th>1182</th>\n",
              "      <td>1</td>\n",
              "      <td>Hi there,\\n\\nis there anybody who know a polyg...</td>\n",
              "    </tr>\n",
              "    <tr>\n",
              "      <th>1183</th>\n",
              "      <td>10</td>\n",
              "      <td>You might want to clarify the 11 game winning ...</td>\n",
              "    </tr>\n",
              "  </tbody>\n",
              "</table>\n",
              "<p>1184 rows × 2 columns</p>\n",
              "</div>"
            ],
            "text/plain": [
              "      label                                               text\n",
              "0        10  Well, I will have to change the scoring on my ...\n",
              "1         1  Archive-name: graphics/resources-list/part1\\nL...\n",
              "2        10  \\nAnd of course, Mike Ramsey was (at one time)...\n",
              "3        10  As I promised, I would give you the name of th...\n",
              "4        10  GAME(S) OF 4/15\\n---------------\\nADIRONDACK 6...\n",
              "...     ...                                                ...\n",
              "1179     10  The Hawks win!!  Jermey Roenick scored his 50 ...\n",
              "1180     10  I think that NHLPA' 93 is the best video game ...\n",
              "1181      1  \\nI am in the market for a 24-bit graphics car...\n",
              "1182      1  Hi there,\\n\\nis there anybody who know a polyg...\n",
              "1183     10  You might want to clarify the 11 game winning ...\n",
              "\n",
              "[1184 rows x 2 columns]"
            ]
          },
          "metadata": {
            "tags": []
          },
          "execution_count": 21
        }
      ]
    },
    {
      "cell_type": "code",
      "metadata": {
        "id": "p8ebPqb0LW-L",
        "colab_type": "code",
        "colab": {
          "base_uri": "https://localhost:8080/",
          "height": 67
        },
        "outputId": "f275766e-580e-4b84-c764-c4d2d5ac79b1"
      },
      "source": [
        "df[\"label\"].value_counts()"
      ],
      "execution_count": 22,
      "outputs": [
        {
          "output_type": "execute_result",
          "data": {
            "text/plain": [
              "10    600\n",
              "1     584\n",
              "Name: label, dtype: int64"
            ]
          },
          "metadata": {
            "tags": []
          },
          "execution_count": 22
        }
      ]
    },
    {
      "cell_type": "markdown",
      "metadata": {
        "id": "4hm3ISNZLuVG",
        "colab_type": "text"
      },
      "source": [
        "### Preprocessing data"
      ]
    },
    {
      "cell_type": "code",
      "metadata": {
        "id": "HRzH0vP7LfdF",
        "colab_type": "code",
        "colab": {}
      },
      "source": [
        "# Remove non alphabetical characters\n",
        "df['text'] = df['text'].str.replace(\"[^a-zA-Z]\", \" \")"
      ],
      "execution_count": 23,
      "outputs": []
    },
    {
      "cell_type": "code",
      "metadata": {
        "id": "zJzMmIWSL9X3",
        "colab_type": "code",
        "colab": {}
      },
      "source": [
        "# Download stopwords\n",
        "import nltk\n",
        "\n",
        "nltk.download(\"stopwords\")\n",
        "from nltk.corpus import stopwords\n",
        "\n",
        "stop_words = stopwords.words(\"english\")"
      ],
      "execution_count": null,
      "outputs": []
    },
    {
      "cell_type": "code",
      "metadata": {
        "id": "Fk7sKSxINF-_",
        "colab_type": "code",
        "colab": {}
      },
      "source": [
        "# Tokenization\n",
        "df[\"text_preprocessed\"] = df[\"text\"].apply(lambda x: x.split())\n",
        "# Remove stopwords\n",
        "df[\"text_preprocessed\"] = df[\"text_preprocessed\"].apply(lambda x: [token for token in x if token not in stop_words])\n",
        "# Merge tokens back\n",
        "df[\"text_preprocessed\"] = df[\"text_preprocessed\"].apply(lambda x: \" \".join(x))\n"
      ],
      "execution_count": 34,
      "outputs": []
    },
    {
      "cell_type": "code",
      "metadata": {
        "id": "b3I7e0gGNiQI",
        "colab_type": "code",
        "colab": {
          "base_uri": "https://localhost:8080/",
          "height": 402
        },
        "outputId": "07d9deb2-5f9a-40e4-dbd1-187760147f61"
      },
      "source": [
        "df"
      ],
      "execution_count": 35,
      "outputs": [
        {
          "output_type": "execute_result",
          "data": {
            "text/html": [
              "<div>\n",
              "<style scoped>\n",
              "    .dataframe tbody tr th:only-of-type {\n",
              "        vertical-align: middle;\n",
              "    }\n",
              "\n",
              "    .dataframe tbody tr th {\n",
              "        vertical-align: top;\n",
              "    }\n",
              "\n",
              "    .dataframe thead th {\n",
              "        text-align: right;\n",
              "    }\n",
              "</style>\n",
              "<table border=\"1\" class=\"dataframe\">\n",
              "  <thead>\n",
              "    <tr style=\"text-align: right;\">\n",
              "      <th></th>\n",
              "      <th>label</th>\n",
              "      <th>text</th>\n",
              "      <th>text_preprocessed</th>\n",
              "    </tr>\n",
              "  </thead>\n",
              "  <tbody>\n",
              "    <tr>\n",
              "      <th>0</th>\n",
              "      <td>10</td>\n",
              "      <td>Well  I will have to change the scoring on my ...</td>\n",
              "      <td>Well I change scoring playoff pool Unfortunate...</td>\n",
              "    </tr>\n",
              "    <tr>\n",
              "      <th>1</th>\n",
              "      <td>1</td>\n",
              "      <td>Archive name  graphics resources list part  La...</td>\n",
              "      <td>Archive name graphics resources list part Last...</td>\n",
              "    </tr>\n",
              "    <tr>\n",
              "      <th>2</th>\n",
              "      <td>10</td>\n",
              "      <td>And of course  Mike Ramsey was  at one time  ...</td>\n",
              "      <td>And course Mike Ramsey one time captain Buffal...</td>\n",
              "    </tr>\n",
              "    <tr>\n",
              "      <th>3</th>\n",
              "      <td>10</td>\n",
              "      <td>As I promised  I would give you the name of th...</td>\n",
              "      <td>As I promised I would give name Panther presid...</td>\n",
              "    </tr>\n",
              "    <tr>\n",
              "      <th>4</th>\n",
              "      <td>10</td>\n",
              "      <td>GAME S  OF                      ADIRONDACK   C...</td>\n",
              "      <td>GAME S OF ADIRONDACK CDI Adirondack leads seri...</td>\n",
              "    </tr>\n",
              "    <tr>\n",
              "      <th>...</th>\n",
              "      <td>...</td>\n",
              "      <td>...</td>\n",
              "      <td>...</td>\n",
              "    </tr>\n",
              "    <tr>\n",
              "      <th>1179</th>\n",
              "      <td>10</td>\n",
              "      <td>The Hawks win    Jermey Roenick scored his    ...</td>\n",
              "      <td>The Hawks win Jermey Roenick scored th goal Ha...</td>\n",
              "    </tr>\n",
              "    <tr>\n",
              "      <th>1180</th>\n",
              "      <td>10</td>\n",
              "      <td>I think that NHLPA     is the best video game ...</td>\n",
              "      <td>I think NHLPA best video game available course...</td>\n",
              "    </tr>\n",
              "    <tr>\n",
              "      <th>1181</th>\n",
              "      <td>1</td>\n",
              "      <td>I am in the market for a    bit graphics card...</td>\n",
              "      <td>I market bit graphics card PC ISA bus wonderin...</td>\n",
              "    </tr>\n",
              "    <tr>\n",
              "      <th>1182</th>\n",
              "      <td>1</td>\n",
              "      <td>Hi there   is there anybody who know a polygon...</td>\n",
              "      <td>Hi anybody know polygon reduction algorithm ma...</td>\n",
              "    </tr>\n",
              "    <tr>\n",
              "      <th>1183</th>\n",
              "      <td>10</td>\n",
              "      <td>You might want to clarify the    game winning ...</td>\n",
              "      <td>You might want clarify game winning streak Tha...</td>\n",
              "    </tr>\n",
              "  </tbody>\n",
              "</table>\n",
              "<p>1184 rows × 3 columns</p>\n",
              "</div>"
            ],
            "text/plain": [
              "      label  ...                                  text_preprocessed\n",
              "0        10  ...  Well I change scoring playoff pool Unfortunate...\n",
              "1         1  ...  Archive name graphics resources list part Last...\n",
              "2        10  ...  And course Mike Ramsey one time captain Buffal...\n",
              "3        10  ...  As I promised I would give name Panther presid...\n",
              "4        10  ...  GAME S OF ADIRONDACK CDI Adirondack leads seri...\n",
              "...     ...  ...                                                ...\n",
              "1179     10  ...  The Hawks win Jermey Roenick scored th goal Ha...\n",
              "1180     10  ...  I think NHLPA best video game available course...\n",
              "1181      1  ...  I market bit graphics card PC ISA bus wonderin...\n",
              "1182      1  ...  Hi anybody know polygon reduction algorithm ma...\n",
              "1183     10  ...  You might want clarify game winning streak Tha...\n",
              "\n",
              "[1184 rows x 3 columns]"
            ]
          },
          "metadata": {
            "tags": []
          },
          "execution_count": 35
        }
      ]
    },
    {
      "cell_type": "markdown",
      "metadata": {
        "id": "_bWHvV9HQKhZ",
        "colab_type": "text"
      },
      "source": [
        "### Prepare for training"
      ]
    },
    {
      "cell_type": "code",
      "metadata": {
        "id": "QszDysbqQOUt",
        "colab_type": "code",
        "colab": {
          "base_uri": "https://localhost:8080/",
          "height": 34
        },
        "outputId": "c8d0f8e6-e784-45de-fdae-48897b4efc37"
      },
      "source": [
        "from sklearn.model_selection import train_test_split\n",
        "\n",
        "df_train, df_test = train_test_split(df, random_state = 12,\n",
        "                                     stratify = df[\"label\"], \n",
        "                                     test_size = 0.4)\n",
        "df_train.shape, df_test.shape"
      ],
      "execution_count": 37,
      "outputs": [
        {
          "output_type": "execute_result",
          "data": {
            "text/plain": [
              "((710, 3), (474, 3))"
            ]
          },
          "metadata": {
            "tags": []
          },
          "execution_count": 37
        }
      ]
    },
    {
      "cell_type": "markdown",
      "metadata": {
        "id": "dI0lgED-Qrvi",
        "colab_type": "text"
      },
      "source": [
        "### Prepare model"
      ]
    },
    {
      "cell_type": "code",
      "metadata": {
        "id": "ttoQglh7QtYU",
        "colab_type": "code",
        "colab": {
          "base_uri": "https://localhost:8080/",
          "height": 17
        },
        "outputId": "f4a36429-7ffa-4b1f-d5c0-293bb6dca114"
      },
      "source": [
        "# Language model\n",
        "lang_model = TextLMDataBunch.from_df(train_df = df_train, \n",
        "                                     valid_df = df_test, \n",
        "                                     path = \"\")\n",
        "\n",
        "# Classifier model\n",
        "data_clas = TextClasDataBunch.from_df(path = \"\",\n",
        "                                      train_df = df_train,\n",
        "                                      valid_df = df_test,\n",
        "                                      vocab = lang_model.train_ds.vocab,\n",
        "                                      bs = 32)"
      ],
      "execution_count": 41,
      "outputs": [
        {
          "output_type": "display_data",
          "data": {
            "text/html": [
              ""
            ],
            "text/plain": [
              "<IPython.core.display.HTML object>"
            ]
          },
          "metadata": {
            "tags": []
          }
        },
        {
          "output_type": "display_data",
          "data": {
            "text/html": [
              ""
            ],
            "text/plain": [
              "<IPython.core.display.HTML object>"
            ]
          },
          "metadata": {
            "tags": []
          }
        },
        {
          "output_type": "display_data",
          "data": {
            "text/html": [
              ""
            ],
            "text/plain": [
              "<IPython.core.display.HTML object>"
            ]
          },
          "metadata": {
            "tags": []
          }
        },
        {
          "output_type": "display_data",
          "data": {
            "text/html": [
              ""
            ],
            "text/plain": [
              "<IPython.core.display.HTML object>"
            ]
          },
          "metadata": {
            "tags": []
          }
        }
      ]
    },
    {
      "cell_type": "markdown",
      "metadata": {
        "id": "mOk4TdXoSrbR",
        "colab_type": "text"
      },
      "source": [
        "### Fine-tuning on pre-trained model"
      ]
    },
    {
      "cell_type": "code",
      "metadata": {
        "id": "g_AbEjGASt8q",
        "colab_type": "code",
        "colab": {
          "base_uri": "https://localhost:8080/",
          "height": 34
        },
        "outputId": "e44424f7-4b95-4c15-d97f-de43cd7aec63"
      },
      "source": [
        "learn = language_model_learner(lang_model, \n",
        "                               arch = AWD_LSTM, \n",
        "                               drop_mult=0.7)"
      ],
      "execution_count": 45,
      "outputs": [
        {
          "output_type": "stream",
          "text": [
            "Downloading https://s3.amazonaws.com/fast-ai-modelzoo/wt103-fwd.tgz\n"
          ],
          "name": "stdout"
        },
        {
          "output_type": "display_data",
          "data": {
            "text/html": [
              ""
            ],
            "text/plain": [
              "<IPython.core.display.HTML object>"
            ]
          },
          "metadata": {
            "tags": []
          }
        }
      ]
    },
    {
      "cell_type": "code",
      "metadata": {
        "id": "frh93yAOVTxW",
        "colab_type": "code",
        "colab": {
          "base_uri": "https://localhost:8080/",
          "height": 77
        },
        "outputId": "168e166d-9087-454a-dece-053b5cb87254"
      },
      "source": [
        "# train the learner object with learning rate = 1e-2\n",
        "learn.fit_one_cycle(1, 1e-2)"
      ],
      "execution_count": 46,
      "outputs": [
        {
          "output_type": "display_data",
          "data": {
            "text/html": [
              "<table border=\"1\" class=\"dataframe\">\n",
              "  <thead>\n",
              "    <tr style=\"text-align: left;\">\n",
              "      <th>epoch</th>\n",
              "      <th>train_loss</th>\n",
              "      <th>valid_loss</th>\n",
              "      <th>accuracy</th>\n",
              "      <th>time</th>\n",
              "    </tr>\n",
              "  </thead>\n",
              "  <tbody>\n",
              "    <tr>\n",
              "      <td>0</td>\n",
              "      <td>5.029365</td>\n",
              "      <td>4.356495</td>\n",
              "      <td>0.252690</td>\n",
              "      <td>00:07</td>\n",
              "    </tr>\n",
              "  </tbody>\n",
              "</table>"
            ],
            "text/plain": [
              "<IPython.core.display.HTML object>"
            ]
          },
          "metadata": {
            "tags": []
          }
        }
      ]
    },
    {
      "cell_type": "code",
      "metadata": {
        "id": "EMTvywrDWIpE",
        "colab_type": "code",
        "colab": {}
      },
      "source": [
        "# Saving the encoder\n",
        "learn.save_encoder('ft_enc')"
      ],
      "execution_count": 47,
      "outputs": []
    },
    {
      "cell_type": "markdown",
      "metadata": {
        "id": "kLzmggaSWYy1",
        "colab_type": "text"
      },
      "source": [
        "### Building classifier"
      ]
    },
    {
      "cell_type": "code",
      "metadata": {
        "id": "Q2yImdjdWe74",
        "colab_type": "code",
        "colab": {
          "base_uri": "https://localhost:8080/",
          "height": 1000
        },
        "outputId": "0a08f97a-bd92-46ca-ce71-434ef26ec58f"
      },
      "source": [
        "learn = text_classifier_learner(data_clas, arch = AWD_LSTM, drop_mult=0.7)\n",
        "learn.load_encoder(\"ft_enc\")"
      ],
      "execution_count": 49,
      "outputs": [
        {
          "output_type": "execute_result",
          "data": {
            "text/plain": [
              "RNNLearner(data=TextClasDataBunch;\n",
              "\n",
              "Train: LabelList (710 items)\n",
              "x: TextList\n",
              "xxbos xxmaj it looks like the xxmaj edmonton xxmaj oilers just decided to take a xxmaj european xxunk this spring xxmaj ranford xxmaj tugnutt xxmaj benning xxmaj manson xxmaj smith xxmaj buchberger and xxmaj corson are playing for xxmaj canada xxmaj podein and xxmaj weight are playing for the xxup us xxmaj is xxmaj kravchuk playing for the xxmaj xxunk i know he had nagging injuries late in the season xxmaj podein is an interesting case because he was eligible to play in xxmaj cape xxmaj breton in the xxup ahl playoffs like xxmaj kovalev xxmaj zubov and xxmaj andersson obviously xxmaj sather and xxmaj pocklington are not the total xxunk everyone makes them out to be certainly in this case they ve massively xxunk xxmaj paramount and the xxmaj new xxmaj york xxmaj rangers,xxbos xxmaj this is what xxunk me xxmaj speaking of die hard that s what i did when i read this xxunk hard xxunk xxmaj toronto to the xxmaj cup finals xxmaj first of all has anyone on the planet heard of the team from xxmaj detroit xxmaj al xxmaj xxunk or however you spell the idiot s name must be from xxmaj chicago because on xxup espn he said it s not even close xxmaj chicago will xxunk win the xxmaj norris xxmaj division in the xxmaj playoffs no other team is close xxmaj everyone is picking xxmaj chicago i don t get it he says it s an easy choice xxmaj god xxmaj chicago was against the xxmaj wings and they won the division by a point or two followed closely by xxmaj toronto who is also a good team xxmaj as for the xxmaj leafs beating xxmaj detroit doubt it but even if they do they aren t going to get by xxmaj chicago xxmaj if even more xxunk they get past the xxmaj hawks they would probably face xxmaj vancouver and lose xxmaj as for xxmaj the xxmaj habs reaching the xxmaj finals forget it xxmaj even i as a devoted xxmaj wings fan will watch the xxmaj penguins easily three xxunk as xxmaj cup winners xxmaj lemieux xxmaj jagr xxmaj tocchet xxmaj stevens and xxmaj barrasso its a done deal xxmaj sorry xxmaj detroit wait xxunk next year xxmaj but hey these were xxmaj paul s picks and everyone has a right to their own xxunk but the xxmaj leafs to the xxmaj finals xxmaj yeah xxmaj if they make it there i ll walk to xxmaj toronto to get some tickets and that s a mile walk xxmaj ryan,xxbos xxmaj the idea is to clip one polygon using another polygon not necessarily rectangular as a window xxmaj my problem then is in finding out all the new vertices of the resulting xxunk from the first one xxmaj is this simply a matter of extending the usual algorithm whereby each of the edges of one polygon is checked against another polygon xxmaj is there a simpler way xxmaj comments welcome,xxbos i m in xxmaj edmonton and while that s usually or at least xxup often the case here we were xxunk to the actual xxup abc xxunk of the xxmaj kings xxmaj flames game i m with whoever said it earlier xxmaj don xxmaj xxunk er xxmaj whitman is a poor commentator and not just for hockey xxmaj normally if the xxmaj oilers were still playing xxunk i would turn off the sound and listen to the radio broadcast to get decent play by play announcing,xxbos xxmaj you know you re absolutely right i think we should round up all those players of xxmaj european xxunk and ship em back to where they came from xxmaj let s see with whom should we start i dunno xxmaj lemieux xxmaj hmmm sounds like he has xxmaj french blood in him xxmaj hey xxmaj france is part of xxmaj europe xxmaj send that xxmaj xxunk xxunk boy back xxmaj sheesh i don t think it would be hard to find some xxmaj native xxmaj americans or xxmaj native xxmaj canadians for that matter who would xxunk your claim to this great continent of xxunk xxmaj ya see if you believe the xxunk we re all xxunk of some sort xxmaj if you really don t think that xxmaj mogilny xxmaj bure xxmaj selanne et al have improved the xxup nhl then i m not sure you understand the game\n",
              "y: CategoryList\n",
              "10,10,1,10,10\n",
              "Path: .;\n",
              "\n",
              "Valid: LabelList (474 items)\n",
              "x: TextList\n",
              "xxbos i am looking for source code for the radiosity method i don t know what kind of machine you want it for but the program xxmaj radiance comes with c source code i don t have ftp access so i couldn t tell you where to get it via that way,xxbos i am interested in any information on xxunk imaging on a sun workstation xxmaj for the most part i need to know if there is any hardware available to interface the system and whether the xxunk rates are sufficient to produce quality image xxunk xxmaj any information about the subject would be greatly appreciated,xxbos xxmaj does anyone have the xxup nhl xxup standings for xxmaj march th i need them xxup xxunk for a project xxmaj please post or email xxup thanks,xxbos a little xxunk xxmaj basic xxmaj mike s info xxmaj for xxmaj xxunk s xxunk on xxup abc these are the announcing xxunk xxmaj devils xxmaj isles at xxmaj pittsburgh xxmaj gary xxmaj thorne play by play xxmaj bill xxmaj clement color and xxmaj al xxmaj xxunk xxunk the xxunk outside the xxunk xxunk xxmaj this xxunk will primarily seen on the xxmaj east xxmaj coast xxmaj st xxmaj louis at xxmaj chicago xxmaj mike xxmaj xxunk play by play xxmaj jim xxmaj xxunk color and xxmaj tom xxmaj xxunk xxunk the xxunk xxmaj this xxunk will primarily be seen in the xxmaj midwest and parts of the xxmaj south xxup la at xxmaj calgary xxmaj al xxmaj do xxmaj you xxmaj believe in xxmaj xxunk xxmaj michaels play by play xxmaj john xxmaj davidson color and xxmaj mark xxmaj jones as a xxunk reporter xxmaj this xxunk will be seen in the xxmaj western xxup usa xxmaj montreal s xxunk xxmaj xxunk xxmaj xxunk will be xxunk in the studio xxup abc will do xxmaj up and xxmaj close and xxmaj personal with xxmaj mario during xxmaj saturday s xxmaj wide xxmaj world of xxmaj sports xxup edt xxmaj sunday will be the first xxup nhl playoff or regular network xxunk in years not counting those silly xxmaj all xxmaj star games on xxup xxunk for the last few years xxmaj for xxmaj sunday s games xxup abc will use xxunk behind on the goal super super xxunk xxunk close xxunk of player s faces at face xxunk xxup espn xxup abc will not be able to use its new favorite xxunk the ice level shot in xxmaj pittsburgh where too many seats would have to removed to xxunk it xxmaj in case of a blowout in xxunk in xxmaj pittsburgh xxup abc will switch to xxmaj chicago game but will come back to the xxmaj pittsburgh game for updates or if the game gets closer xxmaj xxunk xxup abc xxunk huge ratings by hockey standards since all xxmaj top xxup us xxup tv markets are involved xxup ny xxunk area xxup ny xxmaj islanders xxup nj xxmaj devils xxmaj chicago blackhawks and xxup la xxmaj kings xxmaj stay tuned xxmaj thanks xxmaj mike,xxbos xxmaj world xxmaj championships in xxmaj germany xxmaj group a results xxup sweden xxup canada st nd xxup can xxmaj geoff xxmaj sanderson xxmaj kevin xxmaj dineen xxup xxunk xxmaj patrik xxmaj xxunk xxmaj jan xxmaj xxunk pp rd xxup can xxmaj geoff xxmaj sanderson ps xxup can xxmaj mike xxmaj gartner xxmaj greg xxmaj xxunk xxmaj adam xxmaj graves xxup can xxmaj rod xxmaj brind xxmaj amour xxmaj shayne xxmaj corson xxmaj shots on goal xxmaj penalties xxmaj attendance xxmaj referee xxmaj sweden min xxmaj rob xxmaj xxunk xxup usa xxmaj canada min xxmaj bill xxmaj ranford stopped shots to lead xxmaj canada to a victory in a very well played game xxmaj the first period started with a give away from a xxmaj canadian defenseman and xxmaj xxunk came in alone on xxmaj ranford but couldn t put the puck over a xxunk xxmaj ranford xxmaj later on xxmaj kevin xxmaj dineen had a great opportunity but xxmaj soderstrom played very well too xxmaj xxunk xxmaj nilsson had a couple of great xxunk and set up xxmaj jan xxmaj xxunk but again xxmaj ranford came up big xxmaj period ended xxunk but the edge to xxmaj sweden in creating more opportunities xxmaj second period action saw xxmaj tommy xxmaj soderstrom making a xxup great save xxmaj mark xxmaj recchi made a xxunk cross ice pass to xxmaj lindros xxmaj eric one xxunk the puck but xxmaj soderstrom was there to make a glove hand save xxmaj at the minute mark xxmaj canada started applying pressure on the xxmaj xxunk xxmaj sanderson xxmaj dineen xxmaj brind xxmaj amour worked hard and kept the puck in the xxmaj xxunk zone xxmaj dineen gave the puck to xxmaj sanderson who skated around a xxunk xxmaj swedish defenseman came in on xxmaj soderstrom and made a wrist shot that went it by xxmaj soderstrom s far post xxmaj canada xxmaj the xxmaj xxunk picked up their game after that and xxmaj peter xxmaj xxunk had a shot that hit xxmaj ranford s post the inside went parallel to the goal line and out xxmaj then xxmaj gartner got a penalty and the xxmaj xxunk a power play xxmaj jan xxmaj xxunk took a shot from the slot xxmaj ranford gave a rebound to xxmaj xxunk who saw xxmaj xxunk by the far post passed the puck and xxmaj ranford was beat xxmaj third period started as the other periods xxmaj xxunk having most of the pressure but the xxmaj canadians always xxunk once they were close to the xxmaj xxunk goal xxmaj at xxmaj canada created some great chances and xxmaj xxunk xxmaj xxunk was forced to cover the puck in the xxmaj xxunk goal crease since xxmaj soderstrom lost sight of it xxmaj that xxunk in a penalty shot since a defenseman can t cover the puck in the goal crease xxmaj geoff xxmaj sanderson took the penalty shot his first ever he explained xxunk and he put it low on xxmaj soderstrom s stick side close to the post xxmaj excellent penalty shot to give xxmaj canada a go ahead goal xxmaj canada increased the lead on a very suspect xxunk xxmaj gartner xxunk a bouncing puck past xxmaj soderstrom to make it xxmaj the xxmaj xxunk xxunk out of gas then and couldn t produce as good scoring chances as they had for periods xxmaj the goal came with only second left xxmaj rod xxmaj brind xxmaj amour scoring on a rebound from xxmaj soderstrom where the xxmaj swedish defense already had their xxunk in the xxunk room a very good game the best in the xxup wc so far with both goalies playing great xxmaj soderstrom best player in xxmaj sweden but xxmaj ranford even played better than xxmaj soderstrom that tells you something about xxmaj ranford xxmaj probably the best goalie in the world were some comments after the game xxmaj canada played a very disciplined defense xxmaj ranford pointed out that it is easy to play well with a good defense xxmaj lindros played a xxup lot and played well xxmaj sanderson xxunk game xxunk with two goals xxmaj the xxmaj xxunk xxmaj naslund xxmaj xxunk line xxmaj sweden s best along with xxmaj xxunk xxmaj xxunk xxmaj nilsson xxmaj swedish defense played well xxunk xxunk xxmaj peter xxmaj xxunk had the task of xxunk xxunk xxunk xxmaj eric xxmaj lindros and managed this very well xxmaj ranger defenseman xxmaj peter xxmaj andersson finally got to go to the xxup wc and considering that he xxunk in xxmaj germany just a few hours before the game he played very well xxmaj swedish coach xxmaj xxunk xxmaj xxunk was xxunk after the game xxunk because of the xxmaj xxunk xxunk to score and xxunk because of the linesman s mistake on the goal xxmaj lines information follows further below xxup italy xxup switzerland st nd xxup xxunk xxmaj xxunk rd xxmaj penalties xxup xxunk min xxup xxunk min xxmaj referee xxmaj xxunk xxmaj xxunk xxmaj slovakia xxmaj attendance xxmaj group b results xxup czech xxup republic xxup germany st nd xxup xxunk xxmaj xxunk xxmaj xxunk xxup xxunk xxmaj jiri xxmaj xxunk xxup xxunk xxmaj petr xxmaj xxunk rd xxup xxunk xxmaj xxunk xxmaj xxunk xxup xxunk xxmaj josef xxmaj beranek xxmaj penalties xxup xxunk min xxup xxunk min min min game penalty xxmaj referee xxmaj xxunk xxmaj xxunk xxmaj canada xxmaj attendance xxmaj the xxmaj xxunk were clearly better than the xxmaj xxunk and the xxmaj german crowd showed their xxunk by throwing in stuff on the ice after a while xxup finland xxup usa st nd xxup xxunk xxmaj xxunk xxmaj xxunk rd xxup usa xxmaj ed xxmaj olczyk xxmaj penalties xxup xxunk min xxup usa min xxmaj referee xxmaj xxunk xxmaj xxunk xxmaj russia xxmaj attendance i hope some xxmaj xxunk can provide information from this game i didn t see the whole game xxmaj the xxmaj xxunk took the lead on a xxmaj xxunk xxmaj xxunk slap shot from the blue line and a soft goal for an xxunk xxmaj mike xxmaj richter xxmaj as far as the play in the second period goes the xxmaj xxunk seemed to have the most control so a lead was warranted as i saw it xxup sweden xxup canada xxmaj goaltender xxmaj tommy xxmaj soderstrom xxmaj bill xxmaj ranford xxmaj defense xxmaj kenneth xxmaj xxunk xxmaj norm xxmaj maciver xxmaj fredrik xxmaj stillman xxmaj dave xxmaj manson xxmaj peter xxmaj xxunk xxmaj geoff xxmaj smith xxmaj peter xxmaj andersson xxmaj brian xxmaj benning xxmaj xxunk xxmaj xxunk xxmaj terry xxmaj carkner xxmaj roger xxmaj xxunk xxmaj garry xxmaj galley xxmaj derek xxmaj xxunk xxmaj forwards xxmaj mikael xxmaj xxunk xxmaj dave xxmaj gagner xxmaj thomas xxmaj xxunk xxmaj adam xxmaj graves xxmaj mikael xxmaj andersson xxmaj mike xxmaj gartner xxmaj markus xxmaj naslund xxmaj paul xxmaj kariya xxmaj peter xxmaj xxunk xxmaj eric xxmaj lindros xxmaj jonas xxmaj xxunk xxmaj mark xxmaj recchi xxmaj patrik xxmaj xxunk xxmaj rod xxmaj brind xxmaj amour xxmaj jan xxmaj xxunk xxmaj shayne xxmaj corson xxmaj xxunk xxmaj nilsson xxmaj kevin xxmaj dineen xxmaj xxunk xxmaj xxunk xxmaj geoff xxmaj sanderson xxmaj michael xxmaj nylander xxmaj greg xxmaj xxunk xxmaj andersson xxmaj xxunk xxmaj brian xxmaj savage xxmaj kelly xxmaj buchberger\n",
              "y: CategoryList\n",
              "1,1,10,10,10\n",
              "Path: .;\n",
              "\n",
              "Test: None, model=SequentialRNN(\n",
              "  (0): MultiBatchEncoder(\n",
              "    (module): AWD_LSTM(\n",
              "      (encoder): Embedding(6640, 400, padding_idx=1)\n",
              "      (encoder_dp): EmbeddingDropout(\n",
              "        (emb): Embedding(6640, 400, padding_idx=1)\n",
              "      )\n",
              "      (rnns): ModuleList(\n",
              "        (0): WeightDropout(\n",
              "          (module): LSTM(400, 1152, batch_first=True)\n",
              "        )\n",
              "        (1): WeightDropout(\n",
              "          (module): LSTM(1152, 1152, batch_first=True)\n",
              "        )\n",
              "        (2): WeightDropout(\n",
              "          (module): LSTM(1152, 400, batch_first=True)\n",
              "        )\n",
              "      )\n",
              "      (input_dp): RNNDropout()\n",
              "      (hidden_dps): ModuleList(\n",
              "        (0): RNNDropout()\n",
              "        (1): RNNDropout()\n",
              "        (2): RNNDropout()\n",
              "      )\n",
              "    )\n",
              "  )\n",
              "  (1): PoolingLinearClassifier(\n",
              "    (layers): Sequential(\n",
              "      (0): BatchNorm1d(1200, eps=1e-05, momentum=0.1, affine=True, track_running_stats=True)\n",
              "      (1): Dropout(p=0.27999999999999997, inplace=False)\n",
              "      (2): Linear(in_features=1200, out_features=50, bias=True)\n",
              "      (3): ReLU(inplace=True)\n",
              "      (4): BatchNorm1d(50, eps=1e-05, momentum=0.1, affine=True, track_running_stats=True)\n",
              "      (5): Dropout(p=0.1, inplace=False)\n",
              "      (6): Linear(in_features=50, out_features=2, bias=True)\n",
              "    )\n",
              "  )\n",
              "), opt_func=functools.partial(<class 'torch.optim.adam.Adam'>, betas=(0.9, 0.99)), loss_func=FlattenedLoss of CrossEntropyLoss(), metrics=[<function accuracy at 0x7f2c4c66f840>], true_wd=True, bn_wd=True, wd=0.01, train_bn=True, path=PosixPath('.'), model_dir='models', callback_fns=[functools.partial(<class 'fastai.basic_train.Recorder'>, add_time=True, silent=False)], callbacks=[RNNTrainer\n",
              "learn: RNNLearner(data=TextClasDataBunch;\n",
              "\n",
              "Train: LabelList (710 items)\n",
              "x: TextList\n",
              "xxbos xxmaj it looks like the xxmaj edmonton xxmaj oilers just decided to take a xxmaj european xxunk this spring xxmaj ranford xxmaj tugnutt xxmaj benning xxmaj manson xxmaj smith xxmaj buchberger and xxmaj corson are playing for xxmaj canada xxmaj podein and xxmaj weight are playing for the xxup us xxmaj is xxmaj kravchuk playing for the xxmaj xxunk i know he had nagging injuries late in the season xxmaj podein is an interesting case because he was eligible to play in xxmaj cape xxmaj breton in the xxup ahl playoffs like xxmaj kovalev xxmaj zubov and xxmaj andersson obviously xxmaj sather and xxmaj pocklington are not the total xxunk everyone makes them out to be certainly in this case they ve massively xxunk xxmaj paramount and the xxmaj new xxmaj york xxmaj rangers,xxbos xxmaj this is what xxunk me xxmaj speaking of die hard that s what i did when i read this xxunk hard xxunk xxmaj toronto to the xxmaj cup finals xxmaj first of all has anyone on the planet heard of the team from xxmaj detroit xxmaj al xxmaj xxunk or however you spell the idiot s name must be from xxmaj chicago because on xxup espn he said it s not even close xxmaj chicago will xxunk win the xxmaj norris xxmaj division in the xxmaj playoffs no other team is close xxmaj everyone is picking xxmaj chicago i don t get it he says it s an easy choice xxmaj god xxmaj chicago was against the xxmaj wings and they won the division by a point or two followed closely by xxmaj toronto who is also a good team xxmaj as for the xxmaj leafs beating xxmaj detroit doubt it but even if they do they aren t going to get by xxmaj chicago xxmaj if even more xxunk they get past the xxmaj hawks they would probably face xxmaj vancouver and lose xxmaj as for xxmaj the xxmaj habs reaching the xxmaj finals forget it xxmaj even i as a devoted xxmaj wings fan will watch the xxmaj penguins easily three xxunk as xxmaj cup winners xxmaj lemieux xxmaj jagr xxmaj tocchet xxmaj stevens and xxmaj barrasso its a done deal xxmaj sorry xxmaj detroit wait xxunk next year xxmaj but hey these were xxmaj paul s picks and everyone has a right to their own xxunk but the xxmaj leafs to the xxmaj finals xxmaj yeah xxmaj if they make it there i ll walk to xxmaj toronto to get some tickets and that s a mile walk xxmaj ryan,xxbos xxmaj the idea is to clip one polygon using another polygon not necessarily rectangular as a window xxmaj my problem then is in finding out all the new vertices of the resulting xxunk from the first one xxmaj is this simply a matter of extending the usual algorithm whereby each of the edges of one polygon is checked against another polygon xxmaj is there a simpler way xxmaj comments welcome,xxbos i m in xxmaj edmonton and while that s usually or at least xxup often the case here we were xxunk to the actual xxup abc xxunk of the xxmaj kings xxmaj flames game i m with whoever said it earlier xxmaj don xxmaj xxunk er xxmaj whitman is a poor commentator and not just for hockey xxmaj normally if the xxmaj oilers were still playing xxunk i would turn off the sound and listen to the radio broadcast to get decent play by play announcing,xxbos xxmaj you know you re absolutely right i think we should round up all those players of xxmaj european xxunk and ship em back to where they came from xxmaj let s see with whom should we start i dunno xxmaj lemieux xxmaj hmmm sounds like he has xxmaj french blood in him xxmaj hey xxmaj france is part of xxmaj europe xxmaj send that xxmaj xxunk xxunk boy back xxmaj sheesh i don t think it would be hard to find some xxmaj native xxmaj americans or xxmaj native xxmaj canadians for that matter who would xxunk your claim to this great continent of xxunk xxmaj ya see if you believe the xxunk we re all xxunk of some sort xxmaj if you really don t think that xxmaj mogilny xxmaj bure xxmaj selanne et al have improved the xxup nhl then i m not sure you understand the game\n",
              "y: CategoryList\n",
              "10,10,1,10,10\n",
              "Path: .;\n",
              "\n",
              "Valid: LabelList (474 items)\n",
              "x: TextList\n",
              "xxbos i am looking for source code for the radiosity method i don t know what kind of machine you want it for but the program xxmaj radiance comes with c source code i don t have ftp access so i couldn t tell you where to get it via that way,xxbos i am interested in any information on xxunk imaging on a sun workstation xxmaj for the most part i need to know if there is any hardware available to interface the system and whether the xxunk rates are sufficient to produce quality image xxunk xxmaj any information about the subject would be greatly appreciated,xxbos xxmaj does anyone have the xxup nhl xxup standings for xxmaj march th i need them xxup xxunk for a project xxmaj please post or email xxup thanks,xxbos a little xxunk xxmaj basic xxmaj mike s info xxmaj for xxmaj xxunk s xxunk on xxup abc these are the announcing xxunk xxmaj devils xxmaj isles at xxmaj pittsburgh xxmaj gary xxmaj thorne play by play xxmaj bill xxmaj clement color and xxmaj al xxmaj xxunk xxunk the xxunk outside the xxunk xxunk xxmaj this xxunk will primarily seen on the xxmaj east xxmaj coast xxmaj st xxmaj louis at xxmaj chicago xxmaj mike xxmaj xxunk play by play xxmaj jim xxmaj xxunk color and xxmaj tom xxmaj xxunk xxunk the xxunk xxmaj this xxunk will primarily be seen in the xxmaj midwest and parts of the xxmaj south xxup la at xxmaj calgary xxmaj al xxmaj do xxmaj you xxmaj believe in xxmaj xxunk xxmaj michaels play by play xxmaj john xxmaj davidson color and xxmaj mark xxmaj jones as a xxunk reporter xxmaj this xxunk will be seen in the xxmaj western xxup usa xxmaj montreal s xxunk xxmaj xxunk xxmaj xxunk will be xxunk in the studio xxup abc will do xxmaj up and xxmaj close and xxmaj personal with xxmaj mario during xxmaj saturday s xxmaj wide xxmaj world of xxmaj sports xxup edt xxmaj sunday will be the first xxup nhl playoff or regular network xxunk in years not counting those silly xxmaj all xxmaj star games on xxup xxunk for the last few years xxmaj for xxmaj sunday s games xxup abc will use xxunk behind on the goal super super xxunk xxunk close xxunk of player s faces at face xxunk xxup espn xxup abc will not be able to use its new favorite xxunk the ice level shot in xxmaj pittsburgh where too many seats would have to removed to xxunk it xxmaj in case of a blowout in xxunk in xxmaj pittsburgh xxup abc will switch to xxmaj chicago game but will come back to the xxmaj pittsburgh game for updates or if the game gets closer xxmaj xxunk xxup abc xxunk huge ratings by hockey standards since all xxmaj top xxup us xxup tv markets are involved xxup ny xxunk area xxup ny xxmaj islanders xxup nj xxmaj devils xxmaj chicago blackhawks and xxup la xxmaj kings xxmaj stay tuned xxmaj thanks xxmaj mike,xxbos xxmaj world xxmaj championships in xxmaj germany xxmaj group a results xxup sweden xxup canada st nd xxup can xxmaj geoff xxmaj sanderson xxmaj kevin xxmaj dineen xxup xxunk xxmaj patrik xxmaj xxunk xxmaj jan xxmaj xxunk pp rd xxup can xxmaj geoff xxmaj sanderson ps xxup can xxmaj mike xxmaj gartner xxmaj greg xxmaj xxunk xxmaj adam xxmaj graves xxup can xxmaj rod xxmaj brind xxmaj amour xxmaj shayne xxmaj corson xxmaj shots on goal xxmaj penalties xxmaj attendance xxmaj referee xxmaj sweden min xxmaj rob xxmaj xxunk xxup usa xxmaj canada min xxmaj bill xxmaj ranford stopped shots to lead xxmaj canada to a victory in a very well played game xxmaj the first period started with a give away from a xxmaj canadian defenseman and xxmaj xxunk came in alone on xxmaj ranford but couldn t put the puck over a xxunk xxmaj ranford xxmaj later on xxmaj kevin xxmaj dineen had a great opportunity but xxmaj soderstrom played very well too xxmaj xxunk xxmaj nilsson had a couple of great xxunk and set up xxmaj jan xxmaj xxunk but again xxmaj ranford came up big xxmaj period ended xxunk but the edge to xxmaj sweden in creating more opportunities xxmaj second period action saw xxmaj tommy xxmaj soderstrom making a xxup great save xxmaj mark xxmaj recchi made a xxunk cross ice pass to xxmaj lindros xxmaj eric one xxunk the puck but xxmaj soderstrom was there to make a glove hand save xxmaj at the minute mark xxmaj canada started applying pressure on the xxmaj xxunk xxmaj sanderson xxmaj dineen xxmaj brind xxmaj amour worked hard and kept the puck in the xxmaj xxunk zone xxmaj dineen gave the puck to xxmaj sanderson who skated around a xxunk xxmaj swedish defenseman came in on xxmaj soderstrom and made a wrist shot that went it by xxmaj soderstrom s far post xxmaj canada xxmaj the xxmaj xxunk picked up their game after that and xxmaj peter xxmaj xxunk had a shot that hit xxmaj ranford s post the inside went parallel to the goal line and out xxmaj then xxmaj gartner got a penalty and the xxmaj xxunk a power play xxmaj jan xxmaj xxunk took a shot from the slot xxmaj ranford gave a rebound to xxmaj xxunk who saw xxmaj xxunk by the far post passed the puck and xxmaj ranford was beat xxmaj third period started as the other periods xxmaj xxunk having most of the pressure but the xxmaj canadians always xxunk once they were close to the xxmaj xxunk goal xxmaj at xxmaj canada created some great chances and xxmaj xxunk xxmaj xxunk was forced to cover the puck in the xxmaj xxunk goal crease since xxmaj soderstrom lost sight of it xxmaj that xxunk in a penalty shot since a defenseman can t cover the puck in the goal crease xxmaj geoff xxmaj sanderson took the penalty shot his first ever he explained xxunk and he put it low on xxmaj soderstrom s stick side close to the post xxmaj excellent penalty shot to give xxmaj canada a go ahead goal xxmaj canada increased the lead on a very suspect xxunk xxmaj gartner xxunk a bouncing puck past xxmaj soderstrom to make it xxmaj the xxmaj xxunk xxunk out of gas then and couldn t produce as good scoring chances as they had for periods xxmaj the goal came with only second left xxmaj rod xxmaj brind xxmaj amour scoring on a rebound from xxmaj soderstrom where the xxmaj swedish defense already had their xxunk in the xxunk room a very good game the best in the xxup wc so far with both goalies playing great xxmaj soderstrom best player in xxmaj sweden but xxmaj ranford even played better than xxmaj soderstrom that tells you something about xxmaj ranford xxmaj probably the best goalie in the world were some comments after the game xxmaj canada played a very disciplined defense xxmaj ranford pointed out that it is easy to play well with a good defense xxmaj lindros played a xxup lot and played well xxmaj sanderson xxunk game xxunk with two goals xxmaj the xxmaj xxunk xxmaj naslund xxmaj xxunk line xxmaj sweden s best along with xxmaj xxunk xxmaj xxunk xxmaj nilsson xxmaj swedish defense played well xxunk xxunk xxmaj peter xxmaj xxunk had the task of xxunk xxunk xxunk xxmaj eric xxmaj lindros and managed this very well xxmaj ranger defenseman xxmaj peter xxmaj andersson finally got to go to the xxup wc and considering that he xxunk in xxmaj germany just a few hours before the game he played very well xxmaj swedish coach xxmaj xxunk xxmaj xxunk was xxunk after the game xxunk because of the xxmaj xxunk xxunk to score and xxunk because of the linesman s mistake on the goal xxmaj lines information follows further below xxup italy xxup switzerland st nd xxup xxunk xxmaj xxunk rd xxmaj penalties xxup xxunk min xxup xxunk min xxmaj referee xxmaj xxunk xxmaj xxunk xxmaj slovakia xxmaj attendance xxmaj group b results xxup czech xxup republic xxup germany st nd xxup xxunk xxmaj xxunk xxmaj xxunk xxup xxunk xxmaj jiri xxmaj xxunk xxup xxunk xxmaj petr xxmaj xxunk rd xxup xxunk xxmaj xxunk xxmaj xxunk xxup xxunk xxmaj josef xxmaj beranek xxmaj penalties xxup xxunk min xxup xxunk min min min game penalty xxmaj referee xxmaj xxunk xxmaj xxunk xxmaj canada xxmaj attendance xxmaj the xxmaj xxunk were clearly better than the xxmaj xxunk and the xxmaj german crowd showed their xxunk by throwing in stuff on the ice after a while xxup finland xxup usa st nd xxup xxunk xxmaj xxunk xxmaj xxunk rd xxup usa xxmaj ed xxmaj olczyk xxmaj penalties xxup xxunk min xxup usa min xxmaj referee xxmaj xxunk xxmaj xxunk xxmaj russia xxmaj attendance i hope some xxmaj xxunk can provide information from this game i didn t see the whole game xxmaj the xxmaj xxunk took the lead on a xxmaj xxunk xxmaj xxunk slap shot from the blue line and a soft goal for an xxunk xxmaj mike xxmaj richter xxmaj as far as the play in the second period goes the xxmaj xxunk seemed to have the most control so a lead was warranted as i saw it xxup sweden xxup canada xxmaj goaltender xxmaj tommy xxmaj soderstrom xxmaj bill xxmaj ranford xxmaj defense xxmaj kenneth xxmaj xxunk xxmaj norm xxmaj maciver xxmaj fredrik xxmaj stillman xxmaj dave xxmaj manson xxmaj peter xxmaj xxunk xxmaj geoff xxmaj smith xxmaj peter xxmaj andersson xxmaj brian xxmaj benning xxmaj xxunk xxmaj xxunk xxmaj terry xxmaj carkner xxmaj roger xxmaj xxunk xxmaj garry xxmaj galley xxmaj derek xxmaj xxunk xxmaj forwards xxmaj mikael xxmaj xxunk xxmaj dave xxmaj gagner xxmaj thomas xxmaj xxunk xxmaj adam xxmaj graves xxmaj mikael xxmaj andersson xxmaj mike xxmaj gartner xxmaj markus xxmaj naslund xxmaj paul xxmaj kariya xxmaj peter xxmaj xxunk xxmaj eric xxmaj lindros xxmaj jonas xxmaj xxunk xxmaj mark xxmaj recchi xxmaj patrik xxmaj xxunk xxmaj rod xxmaj brind xxmaj amour xxmaj jan xxmaj xxunk xxmaj shayne xxmaj corson xxmaj xxunk xxmaj nilsson xxmaj kevin xxmaj dineen xxmaj xxunk xxmaj xxunk xxmaj geoff xxmaj sanderson xxmaj michael xxmaj nylander xxmaj greg xxmaj xxunk xxmaj andersson xxmaj xxunk xxmaj brian xxmaj savage xxmaj kelly xxmaj buchberger\n",
              "y: CategoryList\n",
              "1,1,10,10,10\n",
              "Path: .;\n",
              "\n",
              "Test: None, model=SequentialRNN(\n",
              "  (0): MultiBatchEncoder(\n",
              "    (module): AWD_LSTM(\n",
              "      (encoder): Embedding(6640, 400, padding_idx=1)\n",
              "      (encoder_dp): EmbeddingDropout(\n",
              "        (emb): Embedding(6640, 400, padding_idx=1)\n",
              "      )\n",
              "      (rnns): ModuleList(\n",
              "        (0): WeightDropout(\n",
              "          (module): LSTM(400, 1152, batch_first=True)\n",
              "        )\n",
              "        (1): WeightDropout(\n",
              "          (module): LSTM(1152, 1152, batch_first=True)\n",
              "        )\n",
              "        (2): WeightDropout(\n",
              "          (module): LSTM(1152, 400, batch_first=True)\n",
              "        )\n",
              "      )\n",
              "      (input_dp): RNNDropout()\n",
              "      (hidden_dps): ModuleList(\n",
              "        (0): RNNDropout()\n",
              "        (1): RNNDropout()\n",
              "        (2): RNNDropout()\n",
              "      )\n",
              "    )\n",
              "  )\n",
              "  (1): PoolingLinearClassifier(\n",
              "    (layers): Sequential(\n",
              "      (0): BatchNorm1d(1200, eps=1e-05, momentum=0.1, affine=True, track_running_stats=True)\n",
              "      (1): Dropout(p=0.27999999999999997, inplace=False)\n",
              "      (2): Linear(in_features=1200, out_features=50, bias=True)\n",
              "      (3): ReLU(inplace=True)\n",
              "      (4): BatchNorm1d(50, eps=1e-05, momentum=0.1, affine=True, track_running_stats=True)\n",
              "      (5): Dropout(p=0.1, inplace=False)\n",
              "      (6): Linear(in_features=50, out_features=2, bias=True)\n",
              "    )\n",
              "  )\n",
              "), opt_func=functools.partial(<class 'torch.optim.adam.Adam'>, betas=(0.9, 0.99)), loss_func=FlattenedLoss of CrossEntropyLoss(), metrics=[<function accuracy at 0x7f2c4c66f840>], true_wd=True, bn_wd=True, wd=0.01, train_bn=True, path=PosixPath('.'), model_dir='models', callback_fns=[functools.partial(<class 'fastai.basic_train.Recorder'>, add_time=True, silent=False)], callbacks=[...], layer_groups=[Sequential(\n",
              "  (0): Embedding(6640, 400, padding_idx=1)\n",
              "  (1): EmbeddingDropout(\n",
              "    (emb): Embedding(6640, 400, padding_idx=1)\n",
              "  )\n",
              "), Sequential(\n",
              "  (0): WeightDropout(\n",
              "    (module): LSTM(400, 1152, batch_first=True)\n",
              "  )\n",
              "  (1): RNNDropout()\n",
              "), Sequential(\n",
              "  (0): WeightDropout(\n",
              "    (module): LSTM(1152, 1152, batch_first=True)\n",
              "  )\n",
              "  (1): RNNDropout()\n",
              "), Sequential(\n",
              "  (0): WeightDropout(\n",
              "    (module): LSTM(1152, 400, batch_first=True)\n",
              "  )\n",
              "  (1): RNNDropout()\n",
              "), Sequential(\n",
              "  (0): PoolingLinearClassifier(\n",
              "    (layers): Sequential(\n",
              "      (0): BatchNorm1d(1200, eps=1e-05, momentum=0.1, affine=True, track_running_stats=True)\n",
              "      (1): Dropout(p=0.27999999999999997, inplace=False)\n",
              "      (2): Linear(in_features=1200, out_features=50, bias=True)\n",
              "      (3): ReLU(inplace=True)\n",
              "      (4): BatchNorm1d(50, eps=1e-05, momentum=0.1, affine=True, track_running_stats=True)\n",
              "      (5): Dropout(p=0.1, inplace=False)\n",
              "      (6): Linear(in_features=50, out_features=2, bias=True)\n",
              "    )\n",
              "  )\n",
              ")], add_time=True, silent=False)\n",
              "alpha: 2.0\n",
              "beta: 1.0], layer_groups=[Sequential(\n",
              "  (0): Embedding(6640, 400, padding_idx=1)\n",
              "  (1): EmbeddingDropout(\n",
              "    (emb): Embedding(6640, 400, padding_idx=1)\n",
              "  )\n",
              "), Sequential(\n",
              "  (0): WeightDropout(\n",
              "    (module): LSTM(400, 1152, batch_first=True)\n",
              "  )\n",
              "  (1): RNNDropout()\n",
              "), Sequential(\n",
              "  (0): WeightDropout(\n",
              "    (module): LSTM(1152, 1152, batch_first=True)\n",
              "  )\n",
              "  (1): RNNDropout()\n",
              "), Sequential(\n",
              "  (0): WeightDropout(\n",
              "    (module): LSTM(1152, 400, batch_first=True)\n",
              "  )\n",
              "  (1): RNNDropout()\n",
              "), Sequential(\n",
              "  (0): PoolingLinearClassifier(\n",
              "    (layers): Sequential(\n",
              "      (0): BatchNorm1d(1200, eps=1e-05, momentum=0.1, affine=True, track_running_stats=True)\n",
              "      (1): Dropout(p=0.27999999999999997, inplace=False)\n",
              "      (2): Linear(in_features=1200, out_features=50, bias=True)\n",
              "      (3): ReLU(inplace=True)\n",
              "      (4): BatchNorm1d(50, eps=1e-05, momentum=0.1, affine=True, track_running_stats=True)\n",
              "      (5): Dropout(p=0.1, inplace=False)\n",
              "      (6): Linear(in_features=50, out_features=2, bias=True)\n",
              "    )\n",
              "  )\n",
              ")], add_time=True, silent=False)"
            ]
          },
          "metadata": {
            "tags": []
          },
          "execution_count": 49
        }
      ]
    },
    {
      "cell_type": "code",
      "metadata": {
        "id": "zoHZYVPpWzD9",
        "colab_type": "code",
        "colab": {
          "base_uri": "https://localhost:8080/",
          "height": 77
        },
        "outputId": "e00dbf94-2bb1-44f7-a11a-c36ffccded71"
      },
      "source": [
        "# Again train the learner object with learning rate = 1e-2\n",
        "learn.fit_one_cycle(1, 1e-2)"
      ],
      "execution_count": 50,
      "outputs": [
        {
          "output_type": "display_data",
          "data": {
            "text/html": [
              "<table border=\"1\" class=\"dataframe\">\n",
              "  <thead>\n",
              "    <tr style=\"text-align: left;\">\n",
              "      <th>epoch</th>\n",
              "      <th>train_loss</th>\n",
              "      <th>valid_loss</th>\n",
              "      <th>accuracy</th>\n",
              "      <th>time</th>\n",
              "    </tr>\n",
              "  </thead>\n",
              "  <tbody>\n",
              "    <tr>\n",
              "      <td>0</td>\n",
              "      <td>0.360449</td>\n",
              "      <td>0.195526</td>\n",
              "      <td>0.943038</td>\n",
              "      <td>00:15</td>\n",
              "    </tr>\n",
              "  </tbody>\n",
              "</table>"
            ],
            "text/plain": [
              "<IPython.core.display.HTML object>"
            ]
          },
          "metadata": {
            "tags": []
          }
        }
      ]
    },
    {
      "cell_type": "code",
      "metadata": {
        "id": "6VOkxhDwXJQ8",
        "colab_type": "code",
        "colab": {}
      },
      "source": [
        "# Get predictions\n",
        "preds, targets = learn.get_preds()\n",
        "\n",
        "predictions = np.argmax(preds, axis=1)"
      ],
      "execution_count": null,
      "outputs": []
    },
    {
      "cell_type": "code",
      "metadata": {
        "id": "_IjdxX32XgXp",
        "colab_type": "code",
        "colab": {
          "base_uri": "https://localhost:8080/",
          "height": 168
        },
        "outputId": "27f68d51-62bb-436b-dbcd-efbb896955ca"
      },
      "source": [
        "from sklearn.metrics import classification_report\n",
        "# pd.crosstab(predictions, targets)\n",
        "print(classification_report(predictions, targets))"
      ],
      "execution_count": 55,
      "outputs": [
        {
          "output_type": "stream",
          "text": [
            "              precision    recall  f1-score   support\n",
            "\n",
            "           0       0.98      0.91      0.94       253\n",
            "           1       0.90      0.98      0.94       221\n",
            "\n",
            "    accuracy                           0.94       474\n",
            "   macro avg       0.94      0.95      0.94       474\n",
            "weighted avg       0.95      0.94      0.94       474\n",
            "\n"
          ],
          "name": "stdout"
        }
      ]
    }
  ]
}